{
 "cells": [
  {
   "cell_type": "code",
   "execution_count": 6,
   "metadata": {},
   "outputs": [],
   "source": [
    "import pandas as pd\n",
    "import pickle"
   ]
  },
  {
   "cell_type": "code",
   "execution_count": 4,
   "metadata": {},
   "outputs": [],
   "source": [
    "def PlayTimeGenre(genero: str):\n",
    "    genero = genero.strip().capitalize()\n",
    "    df_end1 = pd.read_csv('end1.csv')\n",
    "    \n",
    "    # Filtrar el DataFrame para obtener las filas que coinciden con el género\n",
    "    df_genero = df_end1[df_end1['Genres'] == genero]\n",
    "\n",
    "    if df_genero.empty:\n",
    "        return {\"message\": f\"No se encontraron datos para el género {genero}\"}\n",
    "\n",
    "    # Encontrar el juego con más horas jugadas en el DataFrame filtrado\n",
    "    juego_max_horas = df_genero.loc[df_genero['Hours'].idxmax()]\n",
    "\n",
    "    # Obtener el año de lanzamiento del juego con más horas jugadas\n",
    "    año_max_horas = juego_max_horas['Release_year']\n",
    "\n",
    "    return {\"message\": f\"Año de lanzamiento con más horas jugadas para {genero}: {año_max_horas}\"}"
   ]
  },
  {
   "cell_type": "code",
   "execution_count": 5,
   "metadata": {},
   "outputs": [
    {
     "data": {
      "text/plain": [
       "{'message': 'Año de lanzamiento con más horas jugadas para Action: 2012'}"
      ]
     },
     "execution_count": 5,
     "metadata": {},
     "output_type": "execute_result"
    }
   ],
   "source": [
    "PlayTimeGenre('action')"
   ]
  },
  {
   "cell_type": "code",
   "execution_count": 2,
   "metadata": {},
   "outputs": [],
   "source": [
    "def UserForGenre( genero: str):\n",
    "\n",
    "    df_end2 = pd.read_csv('end2.csv')\n",
    "\n",
    "    # Convierte el género en una cadena y elimina posibles espacios en blanco al principio o al final\n",
    "    genero = str(genero).strip()\n",
    "    genero = genero.capitalize()\n",
    "\n",
    "    df_genero = df_end2[df_end2['Genres'] == genero]\n",
    "\n",
    "    if df_genero.empty:\n",
    "        return \"No hay datos para el género especificado.\"\n",
    "# Encontrar el usuario con más horas jugadas en el género\n",
    "    usuario_con_mas_horas = df_genero[df_genero['Original_Hours'] == df_genero['Original_Hours'].max()]\n",
    "\n",
    "    # Crear un diccionario con el resultado en el formato deseado\n",
    "    resultado = {\n",
    "        \"Usuario con más horas jugadas para Género X\": usuario_con_mas_horas['User_id'].values[0],\n",
    "        \"Horas jugadas\": [\n",
    "            {\"Año\": 2013, \"Horas\": usuario_con_mas_horas['year1'].values[0]},\n",
    "            {\"Año\": 2012, \"Horas\": usuario_con_mas_horas['year2'].values[0]},\n",
    "            {\"Año\": 2011, \"Horas\": usuario_con_mas_horas['year3'].values[0]}\n",
    "        ]\n",
    "    }\n",
    "\n",
    "    return resultado\n"
   ]
  },
  {
   "cell_type": "code",
   "execution_count": 3,
   "metadata": {},
   "outputs": [
    {
     "data": {
      "text/plain": [
       "{'Usuario con más horas jugadas para Género X': 'shinomegami',\n",
       " 'Horas jugadas': [{'Año': 2013, 'Horas': 2678},\n",
       "  {'Año': 2012, 'Horas': 2678},\n",
       "  {'Año': 2011, 'Horas': 2678}]}"
      ]
     },
     "execution_count": 3,
     "metadata": {},
     "output_type": "execute_result"
    }
   ],
   "source": [
    "UserForGenre('Strategy')"
   ]
  },
  {
   "cell_type": "code",
   "execution_count": 11,
   "metadata": {},
   "outputs": [],
   "source": [
    "def UsersRecommend(anio: int):\n",
    "\n",
    "    # convierte el valor dado a tipo int y elimina espacios\n",
    "    year = str(anio).strip()\n",
    "\n",
    "    df_end3 = pd.read_csv('end3.csv')\n",
    "\n",
    "    # Se filtra las filas en donde Recommend sea 1 y Positivo o Neutral sea 1\n",
    "    recom_postivas = df_end3[(df_end3.Recommend == 1)&(df_end3.Positivo == 1)|(df_end3.Neutral == 1 )] # rp = recomendaicon positivas\n",
    "\n",
    "    # se filtran las filas para el año especificado y se guarda en una variable\n",
    "    Filtro_anio = recom_postivas[recom_postivas['Release_year'] == year]\n",
    "    \n",
    "    if Filtro_anio.empty:\n",
    "        return \"No hay datos para el género especificado.\"\n",
    "\n",
    "    # Se filtra la variable anteior para agruparla por nombre y suma los valores de la columna 'Recomend', se ordena descendemente\n",
    "    final = Filtro_anio.groupby('App_name')['Recommend'].sum().sort_values(ascending = False)\n",
    "\n",
    "    # Se toman los 3 valores iniciales\n",
    "    top_3 = final.head(3) \n",
    "\n",
    "    # Crear una lista para almacenar los resultados\n",
    "    retorno = []\n",
    "\n",
    "# Verificar si existen elementos en top_3 y agregarlos a la lista de resultados\n",
    "    if not top_3.empty:\n",
    "        retorno.append({\"Puesto 1\": top_3.index[0]})\n",
    "\n",
    "        if len(top_3) > 1:\n",
    "            retorno.append({\"Puesto 2\": top_3.index[1]})\n",
    "\n",
    "        if len(top_3) > 2:\n",
    "            retorno.append({\"Puesto 3\": top_3.index[2]})\n",
    "\n",
    "    return retorno"
   ]
  },
  {
   "cell_type": "code",
   "execution_count": 12,
   "metadata": {},
   "outputs": [
    {
     "data": {
      "text/plain": [
       "[{'Puesto 1': 'Commander Keen'}, {'Puesto 2': 'LOOM™'}]"
      ]
     },
     "execution_count": 12,
     "metadata": {},
     "output_type": "execute_result"
    }
   ],
   "source": [
    "UsersRecommend(1990)"
   ]
  },
  {
   "cell_type": "code",
   "execution_count": 24,
   "metadata": {},
   "outputs": [
    {
     "data": {
      "text/plain": [
       "[{'Puesto 1': 'Starbound'},\n",
       " {'Puesto 2': 'Heroes & Generals'},\n",
       " {'Puesto 3': \"Don't Starve Together\"}]"
      ]
     },
     "execution_count": 24,
     "metadata": {},
     "output_type": "execute_result"
    }
   ],
   "source": [
    "UsersRecommend('2016')"
   ]
  },
  {
   "cell_type": "code",
   "execution_count": 13,
   "metadata": {},
   "outputs": [],
   "source": [
    "def UsersNotRecommend(anio: int):\n",
    "\n",
    "    # convierte el valor dado a tipo int y elimina espacios\n",
    "    year = str(anio).strip()\n",
    "\n",
    "    df_end4 = pd.read_csv('end3.csv')\n",
    "    # Se filtra las filas en donde Recommend sea 0 y Malo sea 1\n",
    "    recom_negativ = df_end4[(df_end4.Recommend == 0)&(df_end4.Malo == 1)] # rp = recomendaicon positivas\n",
    "\n",
    "    if recom_negativ.empty:\n",
    "        return \"No hay datos para ese año.\"\n",
    "    # se filtran las filas para el año especificado y se guarda en una variable\n",
    "    Filtro_anio = recom_negativ[recom_negativ['Release_year'] == year]\n",
    "    \n",
    "    if Filtro_anio.empty:\n",
    "        return \"No hay datos para ese año.\"\n",
    "    # Se filtra la variable anteior para agruparla por nombre y suma los valores de la columna 'Recomend', se ordena descendemente\n",
    "    rpy = Filtro_anio.groupby('App_name')['Recommend'].sum().sort_values(ascending = False)\n",
    "\n",
    "    # Se toman los 3 valores iniciales\n",
    "    top_3 = rpy.head(3) \n",
    "\n",
    "    # Crear una lista para almacenar los resultados\n",
    "    retorno = []\n",
    "\n",
    "# Verificar si existen elementos en top_3 y agregarlos a la lista de resultados\n",
    "    if not top_3.empty:\n",
    "        retorno.append({\"Puesto 1\": top_3.index[0]})\n",
    "\n",
    "        if len(top_3) > 1:\n",
    "            retorno.append({\"Puesto 2\": top_3.index[1]})\n",
    "\n",
    "        if len(top_3) > 2:\n",
    "            retorno.append({\"Puesto 3\": top_3.index[2]})\n",
    "\n",
    "    return retorno"
   ]
  },
  {
   "cell_type": "code",
   "execution_count": 23,
   "metadata": {},
   "outputs": [
    {
     "data": {
      "text/plain": [
       "[{'Puesto 1': 'ARK: Survival Evolved'},\n",
       " {'Puesto 2': 'Autocraft'},\n",
       " {'Puesto 3': 'Dungeon Defenders II'}]"
      ]
     },
     "execution_count": 23,
     "metadata": {},
     "output_type": "execute_result"
    }
   ],
   "source": [
    "UsersNotRecommend(2017)"
   ]
  },
  {
   "cell_type": "code",
   "execution_count": 15,
   "metadata": {},
   "outputs": [],
   "source": [
    "def sentiment_analysis( anio : int ):\n",
    "    # convierte el valor dado a tipo int y elimina espacios\n",
    "    year = str(anio).strip()\n",
    "\n",
    "    df_end5 = pd.read_csv('end5.csv')\n",
    "\n",
    "    # Se filtra las filas que coinciden con el año pedido\n",
    "    comparar = df_end5[df_end5.Release_year == year]\n",
    "    \n",
    "    #  si la variable comparar no esta vacia comprueba las filas \n",
    "    if not comparar.empty:\n",
    "        # Se accede a los valores de las columnas 'Malo', 'Neutral' y 'Positivo' para el primer registro\n",
    "        Negative = comparar['Malo'].iloc[0]\n",
    "        Neutral = comparar['Neutral'].iloc[0]\n",
    "        Positive = comparar['Positivo'].iloc[0]\n",
    "        \n",
    "        # Se retorna los valores correspondientes\n",
    "        return {\n",
    "\n",
    "            'Negative'  : Negative,\n",
    "            'Neutral'  : Neutral,\n",
    "            'Positive' : Positive\n",
    "        }\n",
    "    # En caso de no encontrar el año se retorna un mensaje de error\n",
    "    else:\n",
    "        return {'Error': f'No hay datos disponibles para el año {year}'}\n",
    "    "
   ]
  },
  {
   "cell_type": "code",
   "execution_count": 31,
   "metadata": {},
   "outputs": [
    {
     "data": {
      "text/plain": [
       "{'Negative': 0, 'Neutral': 1, 'Positive': 0}"
      ]
     },
     "execution_count": 31,
     "metadata": {},
     "output_type": "execute_result"
    }
   ],
   "source": [
    "sentiment_analysis(1989)"
   ]
  },
  {
   "cell_type": "code",
   "execution_count": 17,
   "metadata": {},
   "outputs": [],
   "source": [
    "def sentiment_analysis2( anio : int ):\n",
    "    df_end5 = pd.read_csv('end5.csv')\n",
    "\n",
    "    year = str(anio).strip()\n",
    "\n",
    "    # Se filtra las filas que coinciden con el año pedido\n",
    "    comparar = df_end5[df_end5.Release_year == year]\n",
    "    \n",
    "    return{\n",
    "        'Positivo': comparar.Positivo.to_list()[0],\n",
    "        'Negativo': comparar.Malo.to_list()[0],\n",
    "        'Neutral': comparar.Neutral.to_list()[0]\n",
    "    }\n",
    "    "
   ]
  },
  {
   "cell_type": "code",
   "execution_count": 32,
   "metadata": {},
   "outputs": [
    {
     "data": {
      "text/plain": [
       "{'Positivo': 0, 'Negativo': 0, 'Neutral': 1}"
      ]
     },
     "execution_count": 32,
     "metadata": {},
     "output_type": "execute_result"
    }
   ],
   "source": [
    "sentiment_analysis2(1989)"
   ]
  },
  {
   "cell_type": "code",
   "execution_count": 10,
   "metadata": {},
   "outputs": [],
   "source": [
    "def recomendacion_juego2(id_game):\n",
    "\n",
    "    id = int(id_game)  \n",
    "    end6 = pd.read_csv('games_ml.csv')\n",
    "    with open('item_similarity.pkl', 'rb') as model_file:\n",
    "        # Carga el modelo serializado desde el archivo\n",
    "        similarity_matrix = pickle.load(model_file)\n",
    "    # Se encuentra el índice del juego\n",
    "    \n",
    "    game_index = end6[end6['Id_game'] == id].index[0]\n",
    "\n",
    "    # Se calcula la similitud de coseno entre el juego seleccionado y todos los otros juegos\n",
    "    similar_games_indices = similarity_matrix[game_index].argsort()[::-1][1:]\n",
    "\n",
    "    # halla los títulos de los juegos similares a partir de los indices calculados\n",
    "    similar_games_name = end6['App_name'].iloc[similar_games_indices]\n",
    "    \n",
    "    top5 = similar_games_name.head(5)\n",
    "\n",
    "    return top5"
   ]
  },
  {
   "cell_type": "code",
   "execution_count": 11,
   "metadata": {},
   "outputs": [
    {
     "data": {
      "text/plain": [
       "131                           BloodRayne 2\n",
       "114      Amazing Adventures The Lost Tomb™\n",
       "115        Mystery P.I.™ - The Vegas Heist\n",
       "698                          Space Giraffe\n",
       "116    Amazing Adventures Around the World\n",
       "Name: App_name, dtype: object"
      ]
     },
     "execution_count": 11,
     "metadata": {},
     "output_type": "execute_result"
    }
   ],
   "source": [
    "recomendacion_juego(10)"
   ]
  }
 ],
 "metadata": {
  "kernelspec": {
   "display_name": "myenv",
   "language": "python",
   "name": "python3"
  },
  "language_info": {
   "codemirror_mode": {
    "name": "ipython",
    "version": 3
   },
   "file_extension": ".py",
   "mimetype": "text/x-python",
   "name": "python",
   "nbconvert_exporter": "python",
   "pygments_lexer": "ipython3",
   "version": "3.11.6"
  }
 },
 "nbformat": 4,
 "nbformat_minor": 2
}
